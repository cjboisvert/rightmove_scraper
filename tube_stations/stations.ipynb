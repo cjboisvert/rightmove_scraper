{
 "cells": [
  {
   "cell_type": "code",
   "execution_count": 33,
   "metadata": {},
   "outputs": [],
   "source": [
    "import pandas as pd\n",
    "\n",
    "from night_tube_oper import stations_to_remove"
   ]
  },
  {
   "cell_type": "markdown",
   "metadata": {},
   "source": [
    "Read all stations"
   ]
  },
  {
   "cell_type": "code",
   "execution_count": 62,
   "metadata": {},
   "outputs": [],
   "source": [
    "stations_df = pd.read_csv('stations.csv')"
   ]
  },
  {
   "cell_type": "markdown",
   "metadata": {},
   "source": [
    "Merge stations with lines"
   ]
  },
  {
   "cell_type": "code",
   "execution_count": 63,
   "metadata": {},
   "outputs": [],
   "source": [
    "links_df = pd.read_csv('links.csv')\n",
    "lines_df = pd.read_csv('lines.csv')\n",
    "\n",
    "# Merge lines df with links df\n",
    "lines_links_df = pd.merge(links_df, lines_df, on='line')\n",
    "\n",
    "# remove column \"station2\" from lines_links_df\n",
    "lines_links_df = lines_links_df.drop(columns=['station2', 'line_id', 'time', 'colour', 'stripe'])\n",
    "\n",
    "statios_lines_df = lines_links_df.groupby(['station1','line','name']).size().reset_index(name='count').drop(columns=['count']) \n",
    "\n",
    "statios_lines_df.columns = ['station_id', 'line', 'line_name']\n",
    "\n",
    "merged_df = pd.merge(stations_df, statios_lines_df, on=\"station_id\")\n",
    "merged_df.to_csv('stations_lines.csv', index=False)\n"
   ]
  },
  {
   "cell_type": "markdown",
   "metadata": {},
   "source": [
    "Remove stations that are not night tube"
   ]
  },
  {
   "cell_type": "code",
   "execution_count": 64,
   "metadata": {},
   "outputs": [],
   "source": [
    "stations_night_df = merged_df[~merged_df['name'].isin(stations_to_remove)]\n",
    "stations_night_df.to_csv('stations_night_tube.csv', index=True)"
   ]
  },
  {
   "cell_type": "markdown",
   "metadata": {},
   "source": [
    "Read stations (night tube)"
   ]
  },
  {
   "cell_type": "code",
   "execution_count": null,
   "metadata": {},
   "outputs": [],
   "source": [
    "stations_night_df = pd.read_csv('stations_night_tube.csv')\n",
    "\n",
    "# Get unique stations (without duplicates)\n",
    "unique_stations = stations_night_df['name'].drop_duplicates().tolist()"
   ]
  }
 ],
 "metadata": {
  "kernelspec": {
   "display_name": "scrapper",
   "language": "python",
   "name": "python3"
  },
  "language_info": {
   "codemirror_mode": {
    "name": "ipython",
    "version": 3
   },
   "file_extension": ".py",
   "mimetype": "text/x-python",
   "name": "python",
   "nbconvert_exporter": "python",
   "pygments_lexer": "ipython3",
   "version": "3.12.7"
  }
 },
 "nbformat": 4,
 "nbformat_minor": 2
}
